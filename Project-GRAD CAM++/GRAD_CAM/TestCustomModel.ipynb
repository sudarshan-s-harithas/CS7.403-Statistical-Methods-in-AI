{
 "cells": [
  {
   "cell_type": "markdown",
   "metadata": {},
   "source": [
    "### Ablation Study \n",
    "\n",
    "This code is a part of the experiments conducted in the Ablation study section.  A model is trained using the CIFAR100 dataset and is loaded here and tested using GRAD CAM++. "
   ]
  },
  {
   "cell_type": "code",
   "execution_count": 63,
   "metadata": {
    "id": "jsqig9igKTEg"
   },
   "outputs": [],
   "source": [
    "import tensorflow as tf\n",
    "from tensorflow.keras.datasets import cifar10\n",
    "from tensorflow.keras.preprocessing.image import ImageDataGenerator\n",
    "from tensorflow.keras.models import Sequential\n",
    "from tensorflow.keras.layers import Dense, Dropout, Activation, Flatten\n",
    "from tensorflow.keras.layers import Conv2D, MaxPooling2D\n",
    "import numpy as np\n",
    "import pickle\n",
    "import keras \n",
    "from keras.layers.core import Lambda\n",
    "from keras import backend as K\n",
    "from keras.models import Model\n",
    "tf.compat.v1.disable_eager_execution()\n",
    "\n",
    "from skimage import io\n",
    "from skimage.transform import resize\n",
    "from scipy.misc import imread, imresize\n",
    "from matplotlib import pyplot as plt\n",
    "import cv2"
   ]
  },
  {
   "cell_type": "code",
   "execution_count": 64,
   "metadata": {
    "colab": {
     "base_uri": "https://localhost:8080/"
    },
    "id": "PEUhO9lfKTwr",
    "outputId": "66c32784-18aa-4858-ec57-8b14fc9720c5"
   },
   "outputs": [],
   "source": [
    "#!pip install scipy==1.1.0\n"
   ]
  },
  {
   "cell_type": "code",
   "execution_count": 65,
   "metadata": {
    "colab": {
     "base_uri": "https://localhost:8080/"
    },
    "id": "x8yryZlZKTzB",
    "outputId": "d53da8e3-9e28-4b95-97d5-212b6f2eb9e6"
   },
   "outputs": [
    {
     "name": "stdout",
     "output_type": "stream",
     "text": [
      "WARNING:tensorflow:SavedModel saved prior to TF 2.5 detected when loading Keras model. Please ensure that you are saving the model with model.save() or tf.keras.models.save_model(), *NOT* tf.saved_model.save(). To confirm, there should be a file named \"keras_metadata.pb\" in the SavedModel directory.\n"
     ]
    }
   ],
   "source": [
    "InputModel = keras.models.load_model('CIFAR100_model' )"
   ]
  },
  {
   "cell_type": "code",
   "execution_count": 66,
   "metadata": {
    "colab": {
     "base_uri": "https://localhost:8080/"
    },
    "id": "PVnG62ntKT3v",
    "outputId": "da912ca0-8df3-4a05-848d-9c4b167ca4f6"
   },
   "outputs": [
    {
     "name": "stdout",
     "output_type": "stream",
     "text": [
      "Model: \"sequential\"\n",
      "_________________________________________________________________\n",
      " Layer (type)                Output Shape              Param #   \n",
      "=================================================================\n",
      " conv2d (Conv2D)             (None, 32, 32, 8)         224       \n",
      "                                                                 \n",
      " activation (Activation)     (None, 32, 32, 8)         0         \n",
      "                                                                 \n",
      " max_pooling2d (MaxPooling2D  (None, 16, 16, 8)        0         \n",
      " )                                                               \n",
      "                                                                 \n",
      " conv2d_1 (Conv2D)           (None, 16, 16, 32)        2336      \n",
      "                                                                 \n",
      " activation_1 (Activation)   (None, 16, 16, 32)        0         \n",
      "                                                                 \n",
      " max_pooling2d_1 (MaxPooling  (None, 8, 8, 32)         0         \n",
      " 2D)                                                             \n",
      "                                                                 \n",
      " conv2d_2 (Conv2D)           (None, 8, 8, 64)          18496     \n",
      "                                                                 \n",
      " activation_2 (Activation)   (None, 8, 8, 64)          0         \n",
      "                                                                 \n",
      " max_pooling2d_2 (MaxPooling  (None, 4, 4, 64)         0         \n",
      " 2D)                                                             \n",
      "                                                                 \n",
      " conv2d_3 (Conv2D)           (None, 4, 4, 128)         32896     \n",
      "                                                                 \n",
      " activation_3 (Activation)   (None, 4, 4, 128)         0         \n",
      "                                                                 \n",
      " max_pooling2d_3 (MaxPooling  (None, 2, 2, 128)        0         \n",
      " 2D)                                                             \n",
      "                                                                 \n",
      " conv2d_4 (Conv2D)           (None, 2, 2, 128)         65664     \n",
      "                                                                 \n",
      " activation_4 (Activation)   (None, 2, 2, 128)         0         \n",
      "                                                                 \n",
      " max_pooling2d_4 (MaxPooling  (None, 1, 1, 128)        0         \n",
      " 2D)                                                             \n",
      "                                                                 \n",
      " flatten (Flatten)           (None, 128)               0         \n",
      "                                                                 \n",
      " dense (Dense)               (None, 256)               33024     \n",
      "                                                                 \n",
      " dropout (Dropout)           (None, 256)               0         \n",
      "                                                                 \n",
      " dense_1 (Dense)             (None, 100)               25700     \n",
      "                                                                 \n",
      " activation_5 (Activation)   (None, 100)               0         \n",
      "                                                                 \n",
      "=================================================================\n",
      "Total params: 178,340\n",
      "Trainable params: 178,340\n",
      "Non-trainable params: 0\n",
      "_________________________________________________________________\n"
     ]
    }
   ],
   "source": [
    "InputModel.summary()"
   ]
  },
  {
   "cell_type": "code",
   "execution_count": 67,
   "metadata": {
    "colab": {
     "base_uri": "https://localhost:8080/",
     "height": 491
    },
    "id": "mgMB3_gyKT6F",
    "outputId": "16d5cd11-8467-4aa1-bbbe-6a90091ab598"
   },
   "outputs": [
    {
     "name": "stderr",
     "output_type": "stream",
     "text": [
      "/tmp/ipykernel_58393/2266235118.py:3: DeprecationWarning:     `imread` is deprecated!\n",
      "    `imread` is deprecated in SciPy 1.0.0, and will be removed in 1.2.0.\n",
      "    Use ``imageio.imread`` instead.\n",
      "  img = imread(ImgPath, mode='RGB')\n",
      "/tmp/ipykernel_58393/2266235118.py:4: DeprecationWarning:     `imresize` is deprecated!\n",
      "    `imresize` is deprecated in SciPy 1.0.0, and will be removed in 1.2.0.\n",
      "    Use ``skimage.transform.resize`` instead.\n",
      "  img = imresize(img, (32, 32))\n"
     ]
    },
    {
     "data": {
      "image/png": "[encoded data removed]",
      "text/plain": [
       "<Figure size 432x288 with 1 Axes>"
      ]
     },
     "metadata": {
      "needs_background": "light"
     },
     "output_type": "display_data"
    }
   ],
   "source": [
    "ImgPath = 'collies.JPG'\n",
    "\n",
    "img = imread(ImgPath, mode='RGB')\n",
    "img = imresize(img, (32, 32))\n",
    "io.imshow(img)\n",
    "plt.show()\n",
    "\n",
    "x = np.expand_dims(img, axis=0) # [224,224 , 3 ] -> [1 , 224,224 , 3 ]\n",
    "x = x[:,:,:,::-1]\n",
    "\n",
    "prob = InputModel.predict(x) ## Generate the Predictions Vector \n",
    "\n",
    "input_img =  x\n"
   ]
  },
  {
   "cell_type": "code",
   "execution_count": 68,
   "metadata": {
    "id": "2efdbVaaKZxe"
   },
   "outputs": [],
   "source": [
    "predicted_class = np.argmax(prob) ## Get the predicted Class i.e. the class with the maximum prediction accuracy \n",
    "\n",
    "\n",
    "layer_name = 'activation_4' \n",
    "\n",
    "NumClasses = np.shape(prob)[1]\n"
   ]
  },
  {
   "cell_type": "code",
   "execution_count": 69,
   "metadata": {
    "id": "zg0hPSdlKZ0G"
   },
   "outputs": [],
   "source": [
    "def target_category_loss(x, category_index, nb_classes):\n",
    "    return tf.multiply(x, K.one_hot([category_index], nb_classes))"
   ]
  },
  {
   "cell_type": "code",
   "execution_count": 70,
   "metadata": {
    "id": "PQDseDcgKZ4U"
   },
   "outputs": [],
   "source": [
    "def target_category_loss_output_shape(input_shape):\n",
    "    return input_shape"
   ]
  },
  {
   "cell_type": "code",
   "execution_count": 71,
   "metadata": {
    "id": "vIdj4HrKKZ6e"
   },
   "outputs": [],
   "source": [
    "def normalize(x):\n",
    "    # utility function to normalize a tensor by its L2 norm\n",
    "    return x / (K.sqrt(K.mean(K.square(x))) + 1e-5)"
   ]
  },
  {
   "cell_type": "code",
   "execution_count": 72,
   "metadata": {
    "id": "6p6O3X3jKjNT"
   },
   "outputs": [],
   "source": [
    "target_layer = lambda x: target_category_loss(x, predicted_class, NumClasses)\n",
    "x = Lambda(target_layer, output_shape = target_category_loss_output_shape)(InputModel.output)\n",
    "\n",
    "model = Model(inputs=InputModel.input, outputs=x)"
   ]
  },
  {
   "cell_type": "code",
   "execution_count": 73,
   "metadata": {
    "id": "OASvXP4NKjP3"
   },
   "outputs": [],
   "source": [
    "loss = K.sum(model.output)\n",
    "\n",
    "for l in model.layers:\n",
    "    \n",
    "    if( l.name == layer_name ):\n",
    "        conv_output = l.output"
   ]
  },
  {
   "cell_type": "code",
   "execution_count": 74,
   "metadata": {
    "id": "PmxsVHP9KjSY"
   },
   "outputs": [],
   "source": [
    "## Determine gradeints  The below code implements \n",
    "#Eq. 19 in the GRAD CAM++ paper (https://arxiv.org/pdf/1710.11063.pdf)\n",
    "\n",
    "grads = normalize(K.gradients(loss, conv_output)[0])\n",
    "gradient_function = K.function([model.layers[0].input], [conv_output, grads])\n",
    "activation_maps, grads_val = gradient_function([input_img])\n",
    "activation_maps = activation_maps[ 0 , :]\n",
    "grads_val = grads_val[0 , :]\n",
    "\n",
    "grads2 =  grads_val*grads_val\n",
    "grads3  = grads_val*grads_val*grads_val\n",
    "\n",
    "\n",
    "\n",
    "alpha_numerator = grads2\n",
    "alpha_demonimator1 = 2*grads2\n",
    "\n",
    "\n",
    "scale = np.sum( activation_maps , axis=( 0 , 1) )\n",
    "\n",
    "alpha_demonimator2  = scale*grads3\n",
    "alpha_demonimator2 = np.where(alpha_demonimator2 != 0.0, alpha_demonimator2, np.ones(alpha_demonimator2.shape))\n",
    "\n",
    "alpha_demonimator =  alpha_demonimator2 + alpha_demonimator1\n",
    "alpha = alpha_numerator/alpha_demonimator\n",
    "\n",
    "weights1 = np.maximum(grads_val , 0 )\n",
    "\n",
    "alphas_threshold_relu = np.where(weights1, alpha, 0.0)\n",
    "alpha_normalized = np.sum(np.sum(alphas_threshold_relu, axis=0),axis=0)\n",
    "\n",
    "alpha_normalized = np.where(alpha_normalized != 0.0, alpha_normalized, np.ones(alpha_normalized.shape))\n",
    "alpha /= alpha_normalized.reshape((1,1,activation_maps.shape[2]))\n",
    "\n",
    "deep_linearization_weights = np.sum((weights1*alpha).reshape((-1,activation_maps.shape[2])),axis=0)\n",
    "\n",
    "dim = np.shape(activation_maps)[0]\n",
    "localization_result = np.ones( (dim, dim) , dtype =np.float32 )\n",
    "\n",
    "for i in range( len(deep_linearization_weights)):\n",
    "    localization_result += deep_linearization_weights[i]*activation_maps[: , : , i]\n",
    "\n",
    "\n",
    "\n",
    "\n"
   ]
  },
  {
   "cell_type": "code",
   "execution_count": 75,
   "metadata": {
    "colab": {
     "base_uri": "https://localhost:8080/",
     "height": 314
    },
    "id": "obhG8FU3KjU2",
    "outputId": "7fe63e2d-7ecc-49dc-dbeb-49312adb7faf"
   },
   "outputs": [
    {
     "data": {
      "image/png": "[encoded data removed]",
      "text/plain": [
       "<Figure size 432x288 with 1 Axes>"
      ]
     },
     "metadata": {
      "needs_background": "light"
     },
     "output_type": "display_data"
    }
   ],
   "source": [
    "cam = cv2.resize(localization_result, (32, 32))\n",
    "cam = np.maximum(cam, 0)\n",
    "heatmap = cam / np.max(cam)\n",
    "\n",
    "    #Return to BGR [0..255] from the preprocessed image\n",
    "image = img[0, :]\n",
    "image -= np.min(image)\n",
    "image = np.minimum(image, 255)\n",
    "cam = cv2.applyColorMap(np.uint8(255*heatmap), cv2.COLORMAP_JET)\n",
    "cam = np.float32(cam) + np.float32(image)\n",
    "cam = 255 * cam / np.max(cam)\n",
    "cam = np.uint8(cam)\n",
    "\n",
    "io.imshow(cam)\n",
    "plt.show()\n",
    "cam = cv2.resize( cam , (224, 224))\n"
   ]
  },
  {
   "cell_type": "code",
   "execution_count": 76,
   "metadata": {
    "colab": {
     "base_uri": "https://localhost:8080/",
     "height": 314
    },
    "id": "KHEz2NBsKjXC",
    "outputId": "b6d038a4-3864-400a-e120-ccf29ff87443"
   },
   "outputs": [
    {
     "data": {
      "image/png": "[encoded data removed]",
      "text/plain": [
       "<Figure size 432x288 with 1 Axes>"
      ]
     },
     "metadata": {
      "needs_background": "light"
     },
     "output_type": "display_data"
    }
   ],
   "source": [
    "localization_result = np.maximum (localization_result , 0 )\n",
    "localization_result = localization_result / np.max(localization_result)\n",
    "localization_result = resize(localization_result, (32,32))\n",
    "cam3 = np.expand_dims(localization_result, axis=2)\n",
    "cam3 = np.tile(cam3,[1,1,3])\n",
    "img = img.astype(float)\n",
    "img /= img.max()\n",
    "new_img = img+3*cam3\n",
    "new_img /= new_img.max()\n",
    "\n",
    "io.imshow(new_img)\n",
    "plt.show()\n",
    "\n",
    "new_img = cv2.resize( new_img , (224, 224))\n"
   ]
  }
 ],
 "metadata": {
  "accelerator": "GPU",
  "colab": {
   "name": "Untitled90.ipynb",
   "provenance": []
  },
  "kernelspec": {
   "display_name": "SMAI",
   "language": "python",
   "name": "smai"
  },
  "language_info": {
   "codemirror_mode": {
    "name": "ipython",
    "version": 3
   },
   "file_extension": ".py",
   "mimetype": "text/x-python",
   "name": "python",
   "nbconvert_exporter": "python",
   "pygments_lexer": "ipython3",
   "version": "3.8.10"
  }
 },
 "nbformat": 4,
 "nbformat_minor": 1
}
