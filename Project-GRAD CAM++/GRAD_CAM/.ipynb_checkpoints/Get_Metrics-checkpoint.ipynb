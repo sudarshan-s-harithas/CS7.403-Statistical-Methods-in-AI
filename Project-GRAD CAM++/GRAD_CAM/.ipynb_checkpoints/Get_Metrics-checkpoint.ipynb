{
 "cells": [
  {
   "cell_type": "markdown",
   "id": "d0f03d9b",
   "metadata": {},
   "source": [
    "## Evaluation scripts \n",
    "\n",
    "Three quantitative metrics are used namely, (i) Average Drop% , (ii) % increase in confidence, (iii) % Win"
   ]
  },
  {
   "cell_type": "markdown",
   "id": "c4b71ae3",
   "metadata": {},
   "source": [
    " Obtain metrics for GRAD CAM and GRAD CAM++, the code is run for the explanation maps and the resulting data is saved. This code is run offline to obtain the evaluation metrics. "
   ]
  },
  {
   "cell_type": "code",
   "execution_count": 1,
   "id": "ef107539",
   "metadata": {},
   "outputs": [],
   "source": [
    "import numpy as np"
   ]
  },
  {
   "cell_type": "code",
   "execution_count": 2,
   "id": "2581e0ef",
   "metadata": {},
   "outputs": [],
   "source": [
    "predictions_original_grad_cam = []\n",
    "predictions_explanations_grad_cam = []\n",
    "\n",
    "with open('results_data/grad_cam_explanations.txt','r') as f:\n",
    "    \n",
    "    for line in f:\n",
    "        cnt =0 \n",
    "        for word in line.split():\n",
    "            \n",
    "            if( cnt == 1):\n",
    "                predictions_explanations_grad_cam.append( float(word) )\n",
    "                break \n",
    "            \n",
    "            cnt +=1\n",
    "            \n",
    "with open('results_data/grad_cam_original.txt','r') as f:\n",
    "    \n",
    "    for line in f:\n",
    "        cnt =0 \n",
    "        for word in line.split():\n",
    "            \n",
    "            if( cnt == 1):\n",
    "                predictions_original_grad_cam.append( float(word) )\n",
    "                break \n",
    "            \n",
    "            cnt +=1\n",
    "\n",
    "      \n",
    "    \n",
    "predictions_original_grad_cam_plus_plus = []\n",
    "predictions_explanations_grad_cam_plus_plus = []   \n",
    "\n",
    "\n",
    "\n",
    "with open('results_data/grad_cam_plus_plus_explanation.txt','r') as f:\n",
    "    \n",
    "    for line in f:\n",
    "        cnt =0 \n",
    "        for word in line.split():\n",
    "            \n",
    "            if( cnt == 1):\n",
    "                predictions_explanations_grad_cam_plus_plus.append( float(word) )\n",
    "                break \n",
    "            \n",
    "            cnt +=1\n",
    "            \n",
    "with open('results_data/grad_cam_plus_plus_original.txt','r') as f:\n",
    "    \n",
    "    for line in f:\n",
    "        cnt =0 \n",
    "        for word in line.split():\n",
    "            \n",
    "            if( cnt == 1):\n",
    "                predictions_original_grad_cam_plus_plus.append( float(word) )\n",
    "                break \n",
    "            \n",
    "            cnt +=1\n",
    "\n",
    "\n",
    "    "
   ]
  },
  {
   "cell_type": "code",
   "execution_count": 3,
   "id": "fe820ac5",
   "metadata": {},
   "outputs": [],
   "source": [
    "scores_grad_cam = []\n",
    "scores_grad_cam_plus_plus = []\n",
    "\n",
    "for i in range( len(predictions_original_grad_cam )):\n",
    "    \n",
    "    score = np.maximum( 0 , (   predictions_original_grad_cam[i]   -  predictions_explanations_grad_cam[i] ) )/ predictions_original_grad_cam[i]\n",
    "    scores_grad_cam.append(score)\n",
    "    \n",
    "\n",
    "for i in range( len(predictions_original_grad_cam )):\n",
    "    \n",
    "    score = np.maximum( 0 , (   predictions_original_grad_cam_plus_plus[i]   -  predictions_explanations_grad_cam_plus_plus[i] ) )/ predictions_original_grad_cam_plus_plus[i]\n",
    "    scores_grad_cam_plus_plus.append(score )   \n",
    "    \n",
    "\n",
    "Percentage_drop_grad_cam = np.mean(scores_grad_cam)*100\n",
    "Percentage_drop_grad_cam_plus_plus = np.mean( scores_grad_cam_plus_plus)*100                                   "
   ]
  },
  {
   "cell_type": "code",
   "execution_count": 4,
   "id": "ad708255",
   "metadata": {
    "scrolled": true
   },
   "outputs": [
    {
     "name": "stdout",
     "output_type": "stream",
     "text": [
      " The increase in confidence in Grad CaM is  11.538461538461538\n",
      " The increase in confidence in Grad CaM ++ is  21.153846153846153\n"
     ]
    }
   ],
   "source": [
    "score_grad_cam = 0\n",
    "score_grad_cam_plus_plus = 0\n",
    "\n",
    "\n",
    "for i in range( len(predictions_original_grad_cam )):\n",
    "    \n",
    "    if(predictions_original_grad_cam[i] < predictions_explanations_grad_cam[i] ):\n",
    "        score_grad_cam +=1\n",
    "\n",
    "        \n",
    "for i in range( len(predictions_original_grad_cam )):\n",
    "    \n",
    "    if(predictions_original_grad_cam_plus_plus[i] < predictions_explanations_grad_cam_plus_plus[i] ):\n",
    "        score_grad_cam_plus_plus +=1\n",
    "        \n",
    "print(\" The increase in confidence in Grad CaM is  \" + str(score_grad_cam*100/len(predictions_explanations_grad_cam_plus_plus) ))\n",
    "print(\" The increase in confidence in Grad CaM ++ is  \" + str(score_grad_cam_plus_plus*100/len(predictions_explanations_grad_cam_plus_plus)  ) )\n",
    "        \n"
   ]
  },
  {
   "cell_type": "code",
   "execution_count": 5,
   "id": "4cdb5b1a",
   "metadata": {},
   "outputs": [
    {
     "name": "stdout",
     "output_type": "stream",
     "text": [
      " The Average Drop % of Grad CaM is  53.31604074663437\n",
      " The Average Drop % of Grad CaM ++ is  35.606040431512355\n"
     ]
    }
   ],
   "source": [
    "print(\" The Average Drop % of Grad CaM is  \" + str(Percentage_drop_grad_cam ))\n",
    "print(\" The Average Drop % of Grad CaM ++ is  \" + str(Percentage_drop_grad_cam_plus_plus ) )\n"
   ]
  },
  {
   "cell_type": "markdown",
   "id": "2c5b34c1",
   "metadata": {},
   "source": [
    "Win %"
   ]
  },
  {
   "cell_type": "code",
   "execution_count": 6,
   "id": "2c714a47",
   "metadata": {},
   "outputs": [],
   "source": [
    "score = 0 \n",
    "for i in range( len(predictions_original_grad_cam )):\n",
    "    \n",
    "    val1 = predictions_original_grad_cam[i] -  predictions_explanations_grad_cam[i] \n",
    "    val2 = predictions_original_grad_cam_plus_plus[i] - predictions_explanations_grad_cam_plus_plus[i]\n",
    "    if( val1 <  val2 ):\n",
    "        \n",
    "        score +=1\n",
    "        \n",
    "        \n",
    "        "
   ]
  },
  {
   "cell_type": "code",
   "execution_count": 7,
   "id": "37d43781",
   "metadata": {},
   "outputs": [
    {
     "name": "stdout",
     "output_type": "stream",
     "text": [
      " Win % of GRAD CAM = 32.69230769230769\n"
     ]
    }
   ],
   "source": [
    "print(  \" Win % of GRAD CAM = \" + str(100* score/ len(predictions_original_grad_cam ) ) ) "
   ]
  },
  {
   "cell_type": "code",
   "execution_count": 8,
   "id": "4b35c712",
   "metadata": {},
   "outputs": [],
   "source": [
    "score = 0 \n",
    "for i in range( len(predictions_original_grad_cam )):\n",
    "    \n",
    "    val1 = predictions_original_grad_cam[i] -  predictions_explanations_grad_cam[i] \n",
    "    val2 = predictions_original_grad_cam_plus_plus[i] - predictions_explanations_grad_cam_plus_plus[i]\n",
    "    if( val1 >  val2 ):\n",
    "        \n",
    "        score +=1\n",
    "        "
   ]
  },
  {
   "cell_type": "code",
   "execution_count": 9,
   "id": "876fa168",
   "metadata": {},
   "outputs": [
    {
     "name": "stdout",
     "output_type": "stream",
     "text": [
      " Win % of GRAD CAM++ = 67.3076923076923\n"
     ]
    }
   ],
   "source": [
    "print(  \" Win % of GRAD CAM++ = \" + str(100* score/ len(predictions_original_grad_cam ) ) ) "
   ]
  }
 ],
 "metadata": {
  "kernelspec": {
   "display_name": "SMAI",
   "language": "python",
   "name": "smai"
  },
  "language_info": {
   "codemirror_mode": {
    "name": "ipython",
    "version": 3
   },
   "file_extension": ".py",
   "mimetype": "text/x-python",
   "name": "python",
   "nbconvert_exporter": "python",
   "pygments_lexer": "ipython3",
   "version": "3.8.10"
  }
 },
 "nbformat": 4,
 "nbformat_minor": 5
}
