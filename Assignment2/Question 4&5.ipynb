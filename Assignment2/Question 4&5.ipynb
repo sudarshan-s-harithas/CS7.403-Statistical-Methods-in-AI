{
 "cells": [
  {
   "cell_type": "markdown",
   "id": "7ca5a677",
   "metadata": {},
   "source": [
    "## 4) KNN Classifier "
   ]
  },
  {
   "cell_type": "code",
   "execution_count": 1,
   "id": "1b01a46f",
   "metadata": {},
   "outputs": [],
   "source": [
    "import numpy as np\n",
    "import pandas as pd\n",
    "from sklearn.model_selection import train_test_split"
   ]
  },
  {
   "cell_type": "code",
   "execution_count": 2,
   "id": "0fe37dc5",
   "metadata": {},
   "outputs": [],
   "source": [
    "#Load data\n",
    "iris = pd.read_csv('Iris.csv')\n",
    "#data cleaning\n",
    "iris.drop(columns=\"Id\",inplace=True)"
   ]
  },
  {
   "cell_type": "code",
   "execution_count": 3,
   "id": "9272eeaa",
   "metadata": {},
   "outputs": [],
   "source": [
    "#features and labels\n",
    "X=iris.iloc[:,0:4].values\n",
    "y=iris.iloc[:,4].values\n",
    "\n",
    "#Train and Test split\n",
    "X_train,X_test,y_train,y_test=train_test_split(X,y,test_size=0.2,random_state=0)"
   ]
  },
  {
   "cell_type": "markdown",
   "id": "3eb3c9cd",
   "metadata": {},
   "source": [
    "### Methodology \n",
    "\n",
    "The following steps are performed to implement KNN\n",
    "\n",
    "1. Get the feature vectors from trainning data and the feature vector of the test sample and set the value of \"K\" (k=5 in this program). \n",
    "2. Determine the distance (in feature space) between all the trainning data and the test sample and return the distance measurments. \n",
    "3. Select the top k samples from the test data which have the smallest distance to the test sample. \n",
    "4. Within the top k, conduct a voting process and return the class with the highest votes. This would be the resulting classification"
   ]
  },
  {
   "cell_type": "code",
   "execution_count": 21,
   "id": "59017538",
   "metadata": {},
   "outputs": [],
   "source": [
    "## Funtion to return the L2 distance for a test sample and the trainning data \n",
    "\n",
    "def GetL2Distances( Dataset , x_sample ):\n",
    "   \n",
    "    Dataset = Dataset.T  # arrange the training data with n samples in the shape [ 4 , n ] \n",
    "    x_sample = np.reshape(x_sample , (4,1 )) \n",
    "    dist_vec = Dataset - x_sample # broadcast subtraction between train and test samples\n",
    "    dist_vec = np.linalg.norm(dist_vec , axis = 0) # take norm as the distance measurment \n",
    "    \n",
    "    return dist_vec # return a vector of distances between test sample and all trainning samples \n"
   ]
  },
  {
   "cell_type": "code",
   "execution_count": 22,
   "id": "67687a70",
   "metadata": {},
   "outputs": [],
   "source": [
    "#  Function to return the top k classes in the trainning data that were closest to the test sample \n",
    "\n",
    "def GetClasses( euclidian_distance , labels  , k ):\n",
    "    \n",
    "    closest_index = np.argpartition(euclidian_distance , k  ) #  the argpartion function returns an array\n",
    "    # with k-th element in its sorted location and all smaller \n",
    "    #elements will be moved before it and all larger elements behind it.\n",
    "    \n",
    "    classes = []\n",
    "    \n",
    "    for p in range(k): # accessing each index element \n",
    "        \n",
    "        classes.append(  labels[ closest_index[p] ]  ) # store the corresponding class for each index \n",
    "            \n",
    "    return classes \n",
    "     "
   ]
  },
  {
   "cell_type": "code",
   "execution_count": 23,
   "id": "2a59d340",
   "metadata": {},
   "outputs": [],
   "source": [
    "def GetVotedClass(classes): # return the class with maximum number of votes\n",
    "    return max(set(classes), key = classes.count)"
   ]
  },
  {
   "cell_type": "code",
   "execution_count": 24,
   "id": "2454b8b8",
   "metadata": {},
   "outputs": [
    {
     "data": {
      "text/plain": [
       "'Iris-setosa'"
      ]
     },
     "execution_count": 24,
     "metadata": {},
     "output_type": "execute_result"
    }
   ],
   "source": [
    "# A trial block of code to check if the logic is working \n",
    "\n",
    "class_list = [ 'Iris-virginica' , 'Iris-versicolor' , 'Iris-setosa' ]\n",
    "L2_distance = GetL2Distances(X_train ,X_test[15] )\n",
    "classes =  GetClasses(L2_distance ,y_train , k=5  )\n",
    "GetVotedClass(classes  )"
   ]
  },
  {
   "cell_type": "code",
   "execution_count": 25,
   "id": "18ed2062",
   "metadata": {},
   "outputs": [
    {
     "name": "stdout",
     "output_type": "stream",
     "text": [
      " Accuracy = 0.9666666666666667\n"
     ]
    }
   ],
   "source": [
    "numSamples = len(y_test)\n",
    "Score =0 \n",
    "\n",
    "for i in range( numSamples):\n",
    "    L2_distance = GetL2Distances(X_train ,X_test[i] )\n",
    "    classes =  GetClasses(L2_distance ,y_train , k=5  ) ## KNN with k =5 \n",
    "    PredClass  = GetVotedClass(classes)\n",
    "    \n",
    "    if( PredClass ==y_test[i] ):\n",
    "        Score +=1\n",
    "\n",
    "        \n",
    "print(\" Accuracy = \" + str(Score / numSamples ))\n"
   ]
  },
  {
   "cell_type": "markdown",
   "id": "6accde43",
   "metadata": {},
   "source": [
    "## 5) Logistic Regression"
   ]
  },
  {
   "cell_type": "code",
   "execution_count": 26,
   "id": "22a0a20f",
   "metadata": {},
   "outputs": [],
   "source": [
    "import numpy as np\n",
    "import matplotlib.pyplot as plt"
   ]
  },
  {
   "cell_type": "code",
   "execution_count": 27,
   "id": "f1393f7e",
   "metadata": {},
   "outputs": [],
   "source": [
    "from sklearn.datasets import make_blobs\n",
    "X, y =  make_blobs(n_samples=100, centers=[[2,4],[4,2]], random_state=20)\n"
   ]
  },
  {
   "cell_type": "code",
   "execution_count": 28,
   "id": "2ee76dbc",
   "metadata": {},
   "outputs": [
    {
     "data": {
      "text/plain": [
       "[<matplotlib.lines.Line2D at 0x7fde92b43910>]"
      ]
     },
     "execution_count": 28,
     "metadata": {},
     "output_type": "execute_result"
    },
    {
     "data": {
      "image/png": "[encoded data removed]",
      "text/plain": [
       "<Figure size 432x288 with 1 Axes>"
      ]
     },
     "metadata": {
      "needs_background": "light"
     },
     "output_type": "display_data"
    }
   ],
   "source": [
    "#Visualize dataset \n",
    "plt.plot(X[:,0][y==0],X[:,1][y==0],'o',color='red')\n",
    "plt.plot(X[:,0][y==1],X[:,1][y==1],'^',color='blue')\n"
   ]
  },
  {
   "cell_type": "markdown",
   "id": "fe218c28",
   "metadata": {},
   "source": [
    "The function below implements the sigmoid operation, it is defined as \n",
    "\n",
    "$ \\sigma(z) = P =  \\frac{1}{ 1+ e^{-z}} $ \n",
    "\n",
    "Where $Z = WX + b$ and $P$ is the result of the predictions \n",
    "\n",
    "\n"
   ]
  },
  {
   "cell_type": "code",
   "execution_count": 29,
   "id": "755f1455",
   "metadata": {},
   "outputs": [],
   "source": [
    "def sigmoid( z):\n",
    "    \n",
    "    val = 1/( 1 + np.exp(-z) )\n",
    "    \n",
    "    dim = np.shape(val)[0]\n",
    "#     val = np.reshape( val , (dim , 1) )\n",
    "    \n",
    "    return val"
   ]
  },
  {
   "cell_type": "code",
   "execution_count": 30,
   "id": "527d658b",
   "metadata": {},
   "outputs": [],
   "source": [
    "num_points = np.shape(X)[0]\n",
    "ones = np.ones( ( 100,  ))\n",
    "\n",
    "# agumented_features = np.zeros( ( num_points , 3))\n",
    "# agumented_features[: , 0] = ones\n",
    "# agumented_features[: , 1:3] = X \n",
    "\n",
    "W = [ 0,0 ] # Initilize the weights and bias to 0 \n",
    "b =0 \n",
    "W = np.asarray(W)\n",
    "# W = W/np.linalg.norm(W)\n",
    "\n",
    "\n",
    "iterations = 10 \n",
    "eta = 10*-3"
   ]
  },
  {
   "cell_type": "markdown",
   "id": "19e3ab74",
   "metadata": {},
   "source": [
    "The function below returns the cross entropy loss that is given by\n",
    "\n",
    "$L = -\\frac{1}{N} \\Sigma_{i=1}^{N} Y_{i} \\log{P_{i}}$                           \n",
    "\n",
    "Where $Y$ is the true ground truth label and $P$ is the prediction from a classifier. \n",
    "\n",
    "The cross entropy for a binary classifier reduces to \n",
    "\n",
    "$L = -\\frac{1}{N}\\Sigma_{i=1}^{N} Y_{i} \\log{P_{i}}  + (1-Y_{i}) \\log(1-P_{i}) $            \n"
   ]
  },
  {
   "cell_type": "code",
   "execution_count": 31,
   "id": "007b5bb9",
   "metadata": {},
   "outputs": [],
   "source": [
    "# The Cross Entropy loss function \n",
    "\n",
    "def GetLoss( A2 , label ):\n",
    "    Loss = (-1.0) * np.mean(np.multiply(label, np.log(A2)) \n",
    "                            + np.multiply(1.0-label, np.log(1.0 - A2)), axis=0) \n",
    " \n",
    "    \n",
    "    return Loss"
   ]
  },
  {
   "cell_type": "markdown",
   "id": "2e342c03",
   "metadata": {},
   "source": [
    "### Determine the gradients of binary cross entropy\n",
    "\n",
    "\n",
    "$\\frac{\\partial L}{\\partial W} = \\frac{\\partial L}{\\partial P}\\frac{\\partial P}{\\partial W} $\n",
    "\n",
    "$\\frac{\\partial L}{\\partial P} = - \\frac{1}{N} ( \\frac{Y}{P} - \\frac{1-Y}{1-P} )$\n",
    "\n",
    "$ = - \\frac{ Y-P }{P(1-P)}$\n",
    "\n",
    "$P$ is the output of the sigmoid function its derivative is given by $P(1-P)$. \n",
    "\n",
    "$ \\frac{\\partial P}{\\partial W} = P(1-P)X $\n",
    "\n",
    "Therefore \n",
    "\n",
    "$\\frac{\\partial L}{\\partial W} = -\\frac{1}{N}X^{T}( Y-P) $\n",
    "\n",
    "\n",
    "$\\frac{\\partial L}{\\partial b} = \\frac{\\partial L}{\\partial P}\\frac{\\partial P}{\\partial b} $\n",
    "\n",
    "$ \\frac{\\partial L}{\\partial b} = \\frac{1}{N} \\sum_{i=1}^{N} (P- Y) $"
   ]
  },
  {
   "cell_type": "code",
   "execution_count": 32,
   "id": "f2d428c6",
   "metadata": {},
   "outputs": [],
   "source": [
    "# the formulation described above has been programmed here\n",
    "\n",
    "def GetGradients( A2, Y  , X ): \n",
    "    \n",
    "    numPts = np.shape(Y)[0]\n",
    "    Y = np.reshape( Y,  (numPts, 1) )\n",
    "    A2  = np.reshape( A2 , (numPts, 1) )\n",
    "    dw = (1/numPts)*( X.T  )@( A2 - Y )\n",
    "    db = np.mean( A2 - Y , axis = 0 )\n",
    "    \n",
    "    dw = np.reshape( dw , (2, ))\n",
    "\n",
    "    return dw , db "
   ]
  },
  {
   "cell_type": "code",
   "execution_count": 33,
   "id": "4d1c2549",
   "metadata": {},
   "outputs": [],
   "source": [
    "# This is the main function that implements gradient descent for parameter updates \n",
    "\n",
    "def forward(W, b ,  X1 , label , lr):\n",
    "    \n",
    "    A1  = W@(X1.T) + b \n",
    "    A2  = sigmoid(A1) # Determine output of the activation function \n",
    "    Loss = GetLoss( A2 , label ) # calculate the loss by comparing against ground truth values \n",
    "    dw , db = GetGradients( A2, label  , X ) # determine the gradients \n",
    "\n",
    "    \n",
    "    W = np.add( W, -lr*dw , casting='unsafe') # update the weights using gradient descent \n",
    "    b += -lr*db # update bias parameter \n",
    "    \n",
    "    \n",
    "    return W , b , Loss\n"
   ]
  },
  {
   "cell_type": "code",
   "execution_count": 34,
   "id": "3fbf315d",
   "metadata": {},
   "outputs": [],
   "source": [
    "lr = 10**-2\n",
    "iterations = 1500\n",
    "LossList = []\n",
    "for p in range(iterations): #  implement 1500 iterations \n",
    "    \n",
    "    W, b , Loss=  forward( W , b  , X , y , lr)\n",
    "    LossList.append(Loss )\n"
   ]
  },
  {
   "cell_type": "code",
   "execution_count": 35,
   "id": "7a5e619e",
   "metadata": {},
   "outputs": [
    {
     "data": {
      "text/plain": [
       "Text(0.5, 1.0, ' Loss vs Iterations Plot')"
      ]
     },
     "execution_count": 35,
     "metadata": {},
     "output_type": "execute_result"
    },
    {
     "data": {
      "image/png": "[encoded data removed]",
      "text/plain": [
       "<Figure size 432x288 with 1 Axes>"
      ]
     },
     "metadata": {
      "needs_background": "light"
     },
     "output_type": "display_data"
    }
   ],
   "source": [
    "# visulization of the iteration vs loss plot we can observe that loss is decreasing monotonically \n",
    "\n",
    "Iters = np.arange( 0 , iterations , 1)\n",
    "plt.plot(Iters, LossList  ,color='blue')\n",
    "plt.xlabel(\"Loss\")\n",
    "plt.xlabel(\"Iterations\")\n",
    "plt.title(\" Loss vs Iterations Plot\")"
   ]
  },
  {
   "cell_type": "code",
   "execution_count": 36,
   "id": "a97b873a",
   "metadata": {},
   "outputs": [],
   "source": [
    "X_axis =[]\n",
    "Y_axis =[]\n",
    "for i in range( 100):\n",
    "    Y_val = -(1/W[0])*( b + W[1]*X[i][0] )  \n",
    "    X_axis.append(X[i][0])\n",
    "    Y_axis.append( Y_val)"
   ]
  },
  {
   "cell_type": "code",
   "execution_count": 37,
   "id": "51166288",
   "metadata": {},
   "outputs": [
    {
     "data": {
      "text/plain": [
       "[<matplotlib.lines.Line2D at 0x7fde92ae0f70>]"
      ]
     },
     "execution_count": 37,
     "metadata": {},
     "output_type": "execute_result"
    },
    {
     "data": {
      "image/png": "[encoded data removed]",
      "text/plain": [
       "<Figure size 432x288 with 1 Axes>"
      ]
     },
     "metadata": {
      "needs_background": "light"
     },
     "output_type": "display_data"
    }
   ],
   "source": [
    "plt.plot(X[:,0][y==0],X[:,1][y==0],'o',color='red')\n",
    "plt.plot(X[:,0][y==1],X[:,1][y==1],'^',color='blue')\n",
    "plt.title(\"Logistic Regression Decision Boundary\")\n",
    "plt.plot(X_axis ,Y_axis  ,color='green')"
   ]
  },
  {
   "cell_type": "code",
   "execution_count": null,
   "id": "8a115ea9",
   "metadata": {},
   "outputs": [],
   "source": []
  }
 ],
 "metadata": {
  "kernelspec": {
   "display_name": "MR2021",
   "language": "python",
   "name": "mr2021"
  },
  "language_info": {
   "codemirror_mode": {
    "name": "ipython",
    "version": 3
   },
   "file_extension": ".py",
   "mimetype": "text/x-python",
   "name": "python",
   "nbconvert_exporter": "python",
   "pygments_lexer": "ipython3",
   "version": "3.8.10"
  }
 },
 "nbformat": 4,
 "nbformat_minor": 5
}
