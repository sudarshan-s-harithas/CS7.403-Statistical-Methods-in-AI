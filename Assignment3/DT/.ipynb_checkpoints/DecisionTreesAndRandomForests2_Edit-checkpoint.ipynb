{
 "cells": [
  {
   "cell_type": "markdown",
   "metadata": {
    "id": "Q0_wToNFHMN3"
   },
   "source": [
    "# **Decision Trees**\n",
    "\n",
    "The Wisconsin Breast Cancer Dataset(WBCD) can be found here(https://archive.ics.uci.edu/ml/machine-learning-databases/breast-cancer-wisconsin/breast-cancer-wisconsin.data)\n",
    "\n",
    "This dataset describes the characteristics of the cell nuclei of various patients with and without breast cancer. The task is to classify a decision tree to predict if a patient has a benign or a malignant tumour based on these features.\n",
    "\n",
    "Attribute Information:\n",
    "```\n",
    "#  Attribute                     Domain\n",
    "   -- -----------------------------------------\n",
    "   1. Sample code number            id number\n",
    "   2. Clump Thickness               1 - 10\n",
    "   3. Uniformity of Cell Size       1 - 10\n",
    "   4. Uniformity of Cell Shape      1 - 10\n",
    "   5. Marginal Adhesion             1 - 10\n",
    "   6. Single Epithelial Cell Size   1 - 10\n",
    "   7. Bare Nuclei                   1 - 10\n",
    "   8. Bland Chromatin               1 - 10\n",
    "   9. Normal Nucleoli               1 - 10\n",
    "  10. Mitoses                       1 - 10\n",
    "  11. Class:                        (2 for benign, 4 for malignant)\n",
    "```"
   ]
  },
  {
   "cell_type": "code",
   "execution_count": 21,
   "metadata": {
    "id": "qYdlWpUVHMOB"
   },
   "outputs": [
    {
     "data": {
      "text/html": [
       "<div>\n",
       "<style scoped>\n",
       "    .dataframe tbody tr th:only-of-type {\n",
       "        vertical-align: middle;\n",
       "    }\n",
       "\n",
       "    .dataframe tbody tr th {\n",
       "        vertical-align: top;\n",
       "    }\n",
       "\n",
       "    .dataframe thead th {\n",
       "        text-align: right;\n",
       "    }\n",
       "</style>\n",
       "<table border=\"1\" class=\"dataframe\">\n",
       "  <thead>\n",
       "    <tr style=\"text-align: right;\">\n",
       "      <th></th>\n",
       "      <th>CT</th>\n",
       "      <th>UCSize</th>\n",
       "      <th>UCShape</th>\n",
       "      <th>MA</th>\n",
       "      <th>SECSize</th>\n",
       "      <th>BN</th>\n",
       "      <th>BC</th>\n",
       "      <th>NN</th>\n",
       "      <th>Mitoses</th>\n",
       "      <th>Diagnosis</th>\n",
       "    </tr>\n",
       "  </thead>\n",
       "  <tbody>\n",
       "    <tr>\n",
       "      <th>count</th>\n",
       "      <td>699.000000</td>\n",
       "      <td>699.000000</td>\n",
       "      <td>699.000000</td>\n",
       "      <td>699.000000</td>\n",
       "      <td>699.000000</td>\n",
       "      <td>699.000000</td>\n",
       "      <td>699.000000</td>\n",
       "      <td>699.000000</td>\n",
       "      <td>699.000000</td>\n",
       "      <td>699.000000</td>\n",
       "    </tr>\n",
       "    <tr>\n",
       "      <th>mean</th>\n",
       "      <td>4.417740</td>\n",
       "      <td>3.134478</td>\n",
       "      <td>3.207439</td>\n",
       "      <td>2.806867</td>\n",
       "      <td>3.216023</td>\n",
       "      <td>3.463519</td>\n",
       "      <td>3.437768</td>\n",
       "      <td>2.866953</td>\n",
       "      <td>1.589413</td>\n",
       "      <td>2.689557</td>\n",
       "    </tr>\n",
       "    <tr>\n",
       "      <th>std</th>\n",
       "      <td>2.815741</td>\n",
       "      <td>3.051459</td>\n",
       "      <td>2.971913</td>\n",
       "      <td>2.855379</td>\n",
       "      <td>2.214300</td>\n",
       "      <td>3.640708</td>\n",
       "      <td>2.438364</td>\n",
       "      <td>3.053634</td>\n",
       "      <td>1.715078</td>\n",
       "      <td>0.951273</td>\n",
       "    </tr>\n",
       "    <tr>\n",
       "      <th>min</th>\n",
       "      <td>1.000000</td>\n",
       "      <td>1.000000</td>\n",
       "      <td>1.000000</td>\n",
       "      <td>1.000000</td>\n",
       "      <td>1.000000</td>\n",
       "      <td>0.000000</td>\n",
       "      <td>1.000000</td>\n",
       "      <td>1.000000</td>\n",
       "      <td>1.000000</td>\n",
       "      <td>2.000000</td>\n",
       "    </tr>\n",
       "    <tr>\n",
       "      <th>25%</th>\n",
       "      <td>2.000000</td>\n",
       "      <td>1.000000</td>\n",
       "      <td>1.000000</td>\n",
       "      <td>1.000000</td>\n",
       "      <td>2.000000</td>\n",
       "      <td>1.000000</td>\n",
       "      <td>2.000000</td>\n",
       "      <td>1.000000</td>\n",
       "      <td>1.000000</td>\n",
       "      <td>2.000000</td>\n",
       "    </tr>\n",
       "    <tr>\n",
       "      <th>50%</th>\n",
       "      <td>4.000000</td>\n",
       "      <td>1.000000</td>\n",
       "      <td>1.000000</td>\n",
       "      <td>1.000000</td>\n",
       "      <td>2.000000</td>\n",
       "      <td>1.000000</td>\n",
       "      <td>3.000000</td>\n",
       "      <td>1.000000</td>\n",
       "      <td>1.000000</td>\n",
       "      <td>2.000000</td>\n",
       "    </tr>\n",
       "    <tr>\n",
       "      <th>75%</th>\n",
       "      <td>6.000000</td>\n",
       "      <td>5.000000</td>\n",
       "      <td>5.000000</td>\n",
       "      <td>4.000000</td>\n",
       "      <td>4.000000</td>\n",
       "      <td>5.000000</td>\n",
       "      <td>5.000000</td>\n",
       "      <td>4.000000</td>\n",
       "      <td>1.000000</td>\n",
       "      <td>4.000000</td>\n",
       "    </tr>\n",
       "    <tr>\n",
       "      <th>max</th>\n",
       "      <td>10.000000</td>\n",
       "      <td>10.000000</td>\n",
       "      <td>10.000000</td>\n",
       "      <td>10.000000</td>\n",
       "      <td>10.000000</td>\n",
       "      <td>10.000000</td>\n",
       "      <td>10.000000</td>\n",
       "      <td>10.000000</td>\n",
       "      <td>10.000000</td>\n",
       "      <td>4.000000</td>\n",
       "    </tr>\n",
       "  </tbody>\n",
       "</table>\n",
       "</div>"
      ],
      "text/plain": [
       "               CT      UCSize     UCShape          MA     SECSize          BN  \\\n",
       "count  699.000000  699.000000  699.000000  699.000000  699.000000  699.000000   \n",
       "mean     4.417740    3.134478    3.207439    2.806867    3.216023    3.463519   \n",
       "std      2.815741    3.051459    2.971913    2.855379    2.214300    3.640708   \n",
       "min      1.000000    1.000000    1.000000    1.000000    1.000000    0.000000   \n",
       "25%      2.000000    1.000000    1.000000    1.000000    2.000000    1.000000   \n",
       "50%      4.000000    1.000000    1.000000    1.000000    2.000000    1.000000   \n",
       "75%      6.000000    5.000000    5.000000    4.000000    4.000000    5.000000   \n",
       "max     10.000000   10.000000   10.000000   10.000000   10.000000   10.000000   \n",
       "\n",
       "               BC          NN     Mitoses   Diagnosis  \n",
       "count  699.000000  699.000000  699.000000  699.000000  \n",
       "mean     3.437768    2.866953    1.589413    2.689557  \n",
       "std      2.438364    3.053634    1.715078    0.951273  \n",
       "min      1.000000    1.000000    1.000000    2.000000  \n",
       "25%      2.000000    1.000000    1.000000    2.000000  \n",
       "50%      3.000000    1.000000    1.000000    2.000000  \n",
       "75%      5.000000    4.000000    1.000000    4.000000  \n",
       "max     10.000000   10.000000   10.000000    4.000000  "
      ]
     },
     "execution_count": 21,
     "metadata": {},
     "output_type": "execute_result"
    }
   ],
   "source": [
    "import pandas as pd\n",
    "from sklearn import tree\n",
    "from sklearn.model_selection import train_test_split\n",
    "import numpy as np\n",
    "from sklearn.model_selection import GridSearchCV\n",
    "\n",
    "\n",
    "headers = [\"ID\",\"CT\",\"UCSize\",\"UCShape\",\"MA\",\"SECSize\",\"BN\",\"BC\",\"NN\",\"Mitoses\",\"Diagnosis\"]\n",
    "data = pd.read_csv('breast-cancer-wisconsin.data', na_values='?',    \n",
    "         header=None, index_col=['ID'], names = headers) \n",
    "\n",
    "data = data.reset_index(drop=True)\n",
    "data = data.fillna(0)\n",
    "data.describe()"
   ]
  },
  {
   "cell_type": "markdown",
   "metadata": {
    "id": "x_gQq5qrHMOG"
   },
   "source": [
    "1. a) Implement a decision tree (you can use decision tree implementation from existing libraries)."
   ]
  },
  {
   "cell_type": "code",
   "execution_count": 22,
   "metadata": {},
   "outputs": [],
   "source": [
    "X =  data.iloc[:,:-1].to_numpy()\n",
    "Y = data['Diagnosis'].to_numpy()\n",
    "\n",
    "X_train, X_test, y_train, y_test = train_test_split(X, Y ,test_size=0.3 )\n",
    "\n",
    "\n",
    "DT_gini = tree.DecisionTreeClassifier( criterion = 'gini' )\n",
    "DT_entropy = tree.DecisionTreeClassifier( criterion='entropy' )"
   ]
  },
  {
   "cell_type": "markdown",
   "metadata": {
    "id": "VZ7N9m_mHMOJ"
   },
   "source": [
    "1. b) Train a decision tree object of the above class on the WBC dataset using misclassification rate, entropy and Gini as the splitting metrics."
   ]
  },
  {
   "cell_type": "code",
   "execution_count": 23,
   "metadata": {
    "id": "eHFij6PaHMOJ"
   },
   "outputs": [
    {
     "data": {
      "text/plain": [
       "0.9476190476190476"
      ]
     },
     "execution_count": 23,
     "metadata": {},
     "output_type": "execute_result"
    }
   ],
   "source": [
    "## Spliting metric as entropy \n",
    "\n",
    "dt_entropy = DT_entropy.fit(X_train, y_train)\n",
    "dt_entropy.score(X_test, y_test)"
   ]
  },
  {
   "cell_type": "code",
   "execution_count": 24,
   "metadata": {},
   "outputs": [
    {
     "data": {
      "text/plain": [
       "0.9380952380952381"
      ]
     },
     "execution_count": 24,
     "metadata": {},
     "output_type": "execute_result"
    }
   ],
   "source": [
    "# splitting metric as Gini\n",
    "\n",
    "dt_gini = DT_gini.fit(X_train, y_train)\n",
    "dt_gini.score(X_test, y_test)"
   ]
  },
  {
   "cell_type": "markdown",
   "metadata": {
    "id": "eXEjInvmHMOK"
   },
   "source": [
    "1. c) Report the accuracies in each of the above splitting metrics and give the best result. "
   ]
  },
  {
   "cell_type": "markdown",
   "metadata": {
    "id": "49QZvmgNHMOL"
   },
   "source": [
    "| Method | Accuracy |\n",
    "| --- | --- |\n",
    "| Gini | 94.25% |\n",
    "| Entropy | 96.19% |"
   ]
  },
  {
   "cell_type": "markdown",
   "metadata": {
    "id": "Bz_7nYxPHMON"
   },
   "source": [
    "1. d) Experiment with different approaches to decide when to terminate the tree (number of layers, purity measure, etc). Report and give explanations for all approaches. "
   ]
  },
  {
   "cell_type": "code",
   "execution_count": 25,
   "metadata": {},
   "outputs": [],
   "source": [
    "## check for multiple parameters \n",
    "\n",
    "## using 2 metrics gini and entropy \n",
    "## using 3 types max depth values 3 ,5,7\n",
    "## with 3 different minimum impurity decrease measures 0.01 and 0.1 \n",
    "## a total of 2*3*3 = 18 tests are summarized below \n",
    "\n",
    "\n",
    "parameters_grid = {'criterion':['gini','entropy'],\n",
    "              'max_depth':[3,5,7],\n",
    "              'min_impurity_decrease':[0.01,0.1]\n",
    "              }"
   ]
  },
  {
   "cell_type": "code",
   "execution_count": 26,
   "metadata": {},
   "outputs": [
    {
     "data": {
      "text/plain": [
       "GridSearchCV(estimator=DecisionTreeClassifier(),\n",
       "             param_grid={'criterion': ['gini', 'entropy'],\n",
       "                         'max_depth': [3, 5, 7],\n",
       "                         'min_impurity_decrease': [0.01, 0.1]})"
      ]
     },
     "execution_count": 26,
     "metadata": {},
     "output_type": "execute_result"
    }
   ],
   "source": [
    "DT = tree.DecisionTreeClassifier()\n",
    "clf = GridSearchCV(DT, parameters_grid)\n",
    "clf.fit(X_train,y_train)"
   ]
  },
  {
   "cell_type": "code",
   "execution_count": 27,
   "metadata": {},
   "outputs": [
    {
     "data": {
      "text/html": [
       "<div>\n",
       "<style scoped>\n",
       "    .dataframe tbody tr th:only-of-type {\n",
       "        vertical-align: middle;\n",
       "    }\n",
       "\n",
       "    .dataframe tbody tr th {\n",
       "        vertical-align: top;\n",
       "    }\n",
       "\n",
       "    .dataframe thead th {\n",
       "        text-align: right;\n",
       "    }\n",
       "</style>\n",
       "<table border=\"1\" class=\"dataframe\">\n",
       "  <thead>\n",
       "    <tr style=\"text-align: right;\">\n",
       "      <th></th>\n",
       "      <th>mean_fit_time</th>\n",
       "      <th>std_fit_time</th>\n",
       "      <th>mean_score_time</th>\n",
       "      <th>std_score_time</th>\n",
       "      <th>param_criterion</th>\n",
       "      <th>param_max_depth</th>\n",
       "      <th>param_min_impurity_decrease</th>\n",
       "      <th>params</th>\n",
       "      <th>split0_test_score</th>\n",
       "      <th>split1_test_score</th>\n",
       "      <th>split2_test_score</th>\n",
       "      <th>split3_test_score</th>\n",
       "      <th>split4_test_score</th>\n",
       "      <th>mean_test_score</th>\n",
       "      <th>std_test_score</th>\n",
       "      <th>rank_test_score</th>\n",
       "    </tr>\n",
       "  </thead>\n",
       "  <tbody>\n",
       "    <tr>\n",
       "      <th>0</th>\n",
       "      <td>0.001017</td>\n",
       "      <td>0.000815</td>\n",
       "      <td>0.000405</td>\n",
       "      <td>3.078689e-04</td>\n",
       "      <td>gini</td>\n",
       "      <td>3</td>\n",
       "      <td>0.01</td>\n",
       "      <td>{'criterion': 'gini', 'max_depth': 3, 'min_imp...</td>\n",
       "      <td>0.908163</td>\n",
       "      <td>0.918367</td>\n",
       "      <td>0.928571</td>\n",
       "      <td>0.969388</td>\n",
       "      <td>0.938144</td>\n",
       "      <td>0.932527</td>\n",
       "      <td>0.020976</td>\n",
       "      <td>3</td>\n",
       "    </tr>\n",
       "    <tr>\n",
       "      <th>1</th>\n",
       "      <td>0.000491</td>\n",
       "      <td>0.000025</td>\n",
       "      <td>0.000238</td>\n",
       "      <td>1.088297e-05</td>\n",
       "      <td>gini</td>\n",
       "      <td>3</td>\n",
       "      <td>0.1</td>\n",
       "      <td>{'criterion': 'gini', 'max_depth': 3, 'min_imp...</td>\n",
       "      <td>0.928571</td>\n",
       "      <td>0.938776</td>\n",
       "      <td>0.908163</td>\n",
       "      <td>0.948980</td>\n",
       "      <td>0.907216</td>\n",
       "      <td>0.926341</td>\n",
       "      <td>0.016543</td>\n",
       "      <td>6</td>\n",
       "    </tr>\n",
       "    <tr>\n",
       "      <th>2</th>\n",
       "      <td>0.000743</td>\n",
       "      <td>0.000150</td>\n",
       "      <td>0.000327</td>\n",
       "      <td>8.621482e-05</td>\n",
       "      <td>gini</td>\n",
       "      <td>5</td>\n",
       "      <td>0.01</td>\n",
       "      <td>{'criterion': 'gini', 'max_depth': 5, 'min_imp...</td>\n",
       "      <td>0.908163</td>\n",
       "      <td>0.918367</td>\n",
       "      <td>0.928571</td>\n",
       "      <td>0.969388</td>\n",
       "      <td>0.938144</td>\n",
       "      <td>0.932527</td>\n",
       "      <td>0.020976</td>\n",
       "      <td>3</td>\n",
       "    </tr>\n",
       "    <tr>\n",
       "      <th>3</th>\n",
       "      <td>0.000484</td>\n",
       "      <td>0.000055</td>\n",
       "      <td>0.000245</td>\n",
       "      <td>3.379205e-05</td>\n",
       "      <td>gini</td>\n",
       "      <td>5</td>\n",
       "      <td>0.1</td>\n",
       "      <td>{'criterion': 'gini', 'max_depth': 5, 'min_imp...</td>\n",
       "      <td>0.928571</td>\n",
       "      <td>0.938776</td>\n",
       "      <td>0.908163</td>\n",
       "      <td>0.948980</td>\n",
       "      <td>0.907216</td>\n",
       "      <td>0.926341</td>\n",
       "      <td>0.016543</td>\n",
       "      <td>6</td>\n",
       "    </tr>\n",
       "    <tr>\n",
       "      <th>4</th>\n",
       "      <td>0.000516</td>\n",
       "      <td>0.000018</td>\n",
       "      <td>0.000227</td>\n",
       "      <td>1.612810e-06</td>\n",
       "      <td>gini</td>\n",
       "      <td>7</td>\n",
       "      <td>0.01</td>\n",
       "      <td>{'criterion': 'gini', 'max_depth': 7, 'min_imp...</td>\n",
       "      <td>0.908163</td>\n",
       "      <td>0.918367</td>\n",
       "      <td>0.928571</td>\n",
       "      <td>0.969388</td>\n",
       "      <td>0.938144</td>\n",
       "      <td>0.932527</td>\n",
       "      <td>0.020976</td>\n",
       "      <td>3</td>\n",
       "    </tr>\n",
       "    <tr>\n",
       "      <th>5</th>\n",
       "      <td>0.000452</td>\n",
       "      <td>0.000003</td>\n",
       "      <td>0.000224</td>\n",
       "      <td>6.810597e-07</td>\n",
       "      <td>gini</td>\n",
       "      <td>7</td>\n",
       "      <td>0.1</td>\n",
       "      <td>{'criterion': 'gini', 'max_depth': 7, 'min_imp...</td>\n",
       "      <td>0.928571</td>\n",
       "      <td>0.938776</td>\n",
       "      <td>0.908163</td>\n",
       "      <td>0.948980</td>\n",
       "      <td>0.907216</td>\n",
       "      <td>0.926341</td>\n",
       "      <td>0.016543</td>\n",
       "      <td>6</td>\n",
       "    </tr>\n",
       "    <tr>\n",
       "      <th>6</th>\n",
       "      <td>0.000503</td>\n",
       "      <td>0.000016</td>\n",
       "      <td>0.000227</td>\n",
       "      <td>1.202538e-06</td>\n",
       "      <td>entropy</td>\n",
       "      <td>3</td>\n",
       "      <td>0.01</td>\n",
       "      <td>{'criterion': 'entropy', 'max_depth': 3, 'min_...</td>\n",
       "      <td>0.908163</td>\n",
       "      <td>0.948980</td>\n",
       "      <td>0.897959</td>\n",
       "      <td>0.948980</td>\n",
       "      <td>0.917526</td>\n",
       "      <td>0.924321</td>\n",
       "      <td>0.021063</td>\n",
       "      <td>12</td>\n",
       "    </tr>\n",
       "    <tr>\n",
       "      <th>7</th>\n",
       "      <td>0.000459</td>\n",
       "      <td>0.000008</td>\n",
       "      <td>0.000223</td>\n",
       "      <td>2.704133e-06</td>\n",
       "      <td>entropy</td>\n",
       "      <td>3</td>\n",
       "      <td>0.1</td>\n",
       "      <td>{'criterion': 'entropy', 'max_depth': 3, 'min_...</td>\n",
       "      <td>0.928571</td>\n",
       "      <td>0.938776</td>\n",
       "      <td>0.908163</td>\n",
       "      <td>0.948980</td>\n",
       "      <td>0.907216</td>\n",
       "      <td>0.926341</td>\n",
       "      <td>0.016543</td>\n",
       "      <td>6</td>\n",
       "    </tr>\n",
       "    <tr>\n",
       "      <th>8</th>\n",
       "      <td>0.000533</td>\n",
       "      <td>0.000012</td>\n",
       "      <td>0.000234</td>\n",
       "      <td>2.335889e-05</td>\n",
       "      <td>entropy</td>\n",
       "      <td>5</td>\n",
       "      <td>0.01</td>\n",
       "      <td>{'criterion': 'entropy', 'max_depth': 5, 'min_...</td>\n",
       "      <td>0.897959</td>\n",
       "      <td>0.938776</td>\n",
       "      <td>0.908163</td>\n",
       "      <td>0.979592</td>\n",
       "      <td>0.948454</td>\n",
       "      <td>0.934589</td>\n",
       "      <td>0.029241</td>\n",
       "      <td>1</td>\n",
       "    </tr>\n",
       "    <tr>\n",
       "      <th>9</th>\n",
       "      <td>0.000459</td>\n",
       "      <td>0.000025</td>\n",
       "      <td>0.000221</td>\n",
       "      <td>6.892565e-06</td>\n",
       "      <td>entropy</td>\n",
       "      <td>5</td>\n",
       "      <td>0.1</td>\n",
       "      <td>{'criterion': 'entropy', 'max_depth': 5, 'min_...</td>\n",
       "      <td>0.928571</td>\n",
       "      <td>0.938776</td>\n",
       "      <td>0.908163</td>\n",
       "      <td>0.948980</td>\n",
       "      <td>0.907216</td>\n",
       "      <td>0.926341</td>\n",
       "      <td>0.016543</td>\n",
       "      <td>6</td>\n",
       "    </tr>\n",
       "    <tr>\n",
       "      <th>10</th>\n",
       "      <td>0.000545</td>\n",
       "      <td>0.000020</td>\n",
       "      <td>0.000237</td>\n",
       "      <td>3.270714e-05</td>\n",
       "      <td>entropy</td>\n",
       "      <td>7</td>\n",
       "      <td>0.01</td>\n",
       "      <td>{'criterion': 'entropy', 'max_depth': 7, 'min_...</td>\n",
       "      <td>0.918367</td>\n",
       "      <td>0.938776</td>\n",
       "      <td>0.908163</td>\n",
       "      <td>0.979592</td>\n",
       "      <td>0.927835</td>\n",
       "      <td>0.934547</td>\n",
       "      <td>0.024698</td>\n",
       "      <td>2</td>\n",
       "    </tr>\n",
       "    <tr>\n",
       "      <th>11</th>\n",
       "      <td>0.000446</td>\n",
       "      <td>0.000003</td>\n",
       "      <td>0.000220</td>\n",
       "      <td>4.747823e-06</td>\n",
       "      <td>entropy</td>\n",
       "      <td>7</td>\n",
       "      <td>0.1</td>\n",
       "      <td>{'criterion': 'entropy', 'max_depth': 7, 'min_...</td>\n",
       "      <td>0.928571</td>\n",
       "      <td>0.938776</td>\n",
       "      <td>0.908163</td>\n",
       "      <td>0.948980</td>\n",
       "      <td>0.907216</td>\n",
       "      <td>0.926341</td>\n",
       "      <td>0.016543</td>\n",
       "      <td>6</td>\n",
       "    </tr>\n",
       "  </tbody>\n",
       "</table>\n",
       "</div>"
      ],
      "text/plain": [
       "    mean_fit_time  std_fit_time  mean_score_time  std_score_time  \\\n",
       "0        0.001017      0.000815         0.000405    3.078689e-04   \n",
       "1        0.000491      0.000025         0.000238    1.088297e-05   \n",
       "2        0.000743      0.000150         0.000327    8.621482e-05   \n",
       "3        0.000484      0.000055         0.000245    3.379205e-05   \n",
       "4        0.000516      0.000018         0.000227    1.612810e-06   \n",
       "5        0.000452      0.000003         0.000224    6.810597e-07   \n",
       "6        0.000503      0.000016         0.000227    1.202538e-06   \n",
       "7        0.000459      0.000008         0.000223    2.704133e-06   \n",
       "8        0.000533      0.000012         0.000234    2.335889e-05   \n",
       "9        0.000459      0.000025         0.000221    6.892565e-06   \n",
       "10       0.000545      0.000020         0.000237    3.270714e-05   \n",
       "11       0.000446      0.000003         0.000220    4.747823e-06   \n",
       "\n",
       "   param_criterion param_max_depth param_min_impurity_decrease  \\\n",
       "0             gini               3                        0.01   \n",
       "1             gini               3                         0.1   \n",
       "2             gini               5                        0.01   \n",
       "3             gini               5                         0.1   \n",
       "4             gini               7                        0.01   \n",
       "5             gini               7                         0.1   \n",
       "6          entropy               3                        0.01   \n",
       "7          entropy               3                         0.1   \n",
       "8          entropy               5                        0.01   \n",
       "9          entropy               5                         0.1   \n",
       "10         entropy               7                        0.01   \n",
       "11         entropy               7                         0.1   \n",
       "\n",
       "                                               params  split0_test_score  \\\n",
       "0   {'criterion': 'gini', 'max_depth': 3, 'min_imp...           0.908163   \n",
       "1   {'criterion': 'gini', 'max_depth': 3, 'min_imp...           0.928571   \n",
       "2   {'criterion': 'gini', 'max_depth': 5, 'min_imp...           0.908163   \n",
       "3   {'criterion': 'gini', 'max_depth': 5, 'min_imp...           0.928571   \n",
       "4   {'criterion': 'gini', 'max_depth': 7, 'min_imp...           0.908163   \n",
       "5   {'criterion': 'gini', 'max_depth': 7, 'min_imp...           0.928571   \n",
       "6   {'criterion': 'entropy', 'max_depth': 3, 'min_...           0.908163   \n",
       "7   {'criterion': 'entropy', 'max_depth': 3, 'min_...           0.928571   \n",
       "8   {'criterion': 'entropy', 'max_depth': 5, 'min_...           0.897959   \n",
       "9   {'criterion': 'entropy', 'max_depth': 5, 'min_...           0.928571   \n",
       "10  {'criterion': 'entropy', 'max_depth': 7, 'min_...           0.918367   \n",
       "11  {'criterion': 'entropy', 'max_depth': 7, 'min_...           0.928571   \n",
       "\n",
       "    split1_test_score  split2_test_score  split3_test_score  \\\n",
       "0            0.918367           0.928571           0.969388   \n",
       "1            0.938776           0.908163           0.948980   \n",
       "2            0.918367           0.928571           0.969388   \n",
       "3            0.938776           0.908163           0.948980   \n",
       "4            0.918367           0.928571           0.969388   \n",
       "5            0.938776           0.908163           0.948980   \n",
       "6            0.948980           0.897959           0.948980   \n",
       "7            0.938776           0.908163           0.948980   \n",
       "8            0.938776           0.908163           0.979592   \n",
       "9            0.938776           0.908163           0.948980   \n",
       "10           0.938776           0.908163           0.979592   \n",
       "11           0.938776           0.908163           0.948980   \n",
       "\n",
       "    split4_test_score  mean_test_score  std_test_score  rank_test_score  \n",
       "0            0.938144         0.932527        0.020976                3  \n",
       "1            0.907216         0.926341        0.016543                6  \n",
       "2            0.938144         0.932527        0.020976                3  \n",
       "3            0.907216         0.926341        0.016543                6  \n",
       "4            0.938144         0.932527        0.020976                3  \n",
       "5            0.907216         0.926341        0.016543                6  \n",
       "6            0.917526         0.924321        0.021063               12  \n",
       "7            0.907216         0.926341        0.016543                6  \n",
       "8            0.948454         0.934589        0.029241                1  \n",
       "9            0.907216         0.926341        0.016543                6  \n",
       "10           0.927835         0.934547        0.024698                2  \n",
       "11           0.907216         0.926341        0.016543                6  "
      ]
     },
     "execution_count": 27,
     "metadata": {},
     "output_type": "execute_result"
    }
   ],
   "source": [
    "pd.DataFrame(clf.cv_results_)"
   ]
  },
  {
   "cell_type": "markdown",
   "metadata": {},
   "source": [
    "#### For specific observation we shall sample a few models and test their performance on data "
   ]
  },
  {
   "cell_type": "code",
   "execution_count": 28,
   "metadata": {},
   "outputs": [
    {
     "name": "stdout",
     "output_type": "stream",
     "text": [
      "Situation 1  Accuracy 0.9476190476190476\n",
      "Situation 2 Accuracy 0.919047619047619\n"
     ]
    }
   ],
   "source": [
    "DT_check1 = tree.DecisionTreeClassifier( criterion = 'gini',max_depth =5 ,\n",
    "                                      min_impurity_decrease =0.01 )\n",
    "\n",
    "dt_entropy_check = DT_check1.fit(X_train, y_train)\n",
    "check1 = dt_entropy_check.score(X_test, y_test)\n",
    "\n",
    "print( \"Situation 1  Accuracy \" + str(check1) )\n",
    "\n",
    "DT_check2 = tree.DecisionTreeClassifier( criterion = 'gini',max_depth =3 ,\n",
    "                                      min_impurity_decrease =0.1 )\n",
    "\n",
    "dt_entropy_check = DT_check2.fit(X_train, y_train)\n",
    "check2 = dt_entropy_check.score(X_test, y_test)\n",
    "\n",
    "\n",
    "print( \"Situation 2 \"  + \"Accuracy \" + str(check2) )\n"
   ]
  },
  {
   "cell_type": "markdown",
   "metadata": {},
   "source": [
    "This expermiment aim to recognize the role of the \"min_impurity_decrease\" parameter in resultant accuracy. Here we consider two situations with gini impurity and a max depth set to 3. We observe that with the change in \"min_impurity_decrease\" parameter from 0.01 to 0.1, the system performance decreases. "
   ]
  },
  {
   "cell_type": "code",
   "execution_count": 29,
   "metadata": {},
   "outputs": [
    {
     "name": "stdout",
     "output_type": "stream",
     "text": [
      "Situation 1  Accuracy 0.9476190476190476\n",
      "Situation 2 Accuracy 0.9047619047619048\n"
     ]
    }
   ],
   "source": [
    "DT_check1 = tree.DecisionTreeClassifier( criterion = 'gini',max_depth =3 ,\n",
    "                                      min_impurity_decrease =0.01 )\n",
    "\n",
    "dt_entropy_check = DT_check1.fit(X_train, y_train)\n",
    "check1 = dt_entropy_check.score(X_test, y_test)\n",
    "\n",
    "print( \"Situation 1  Accuracy \" + str(check1) )\n",
    "\n",
    "DT_check2 = tree.DecisionTreeClassifier( criterion = 'entropy',max_depth =3 ,\n",
    "                                      min_impurity_decrease =0.01 )\n",
    "\n",
    "dt_entropy_check = DT_check2.fit(X_train, y_train)\n",
    "check2 = dt_entropy_check.score(X_test, y_test)\n",
    "\n",
    "\n",
    "print( \"Situation 2 \"  + \"Accuracy \" + str(check2) )\n"
   ]
  },
  {
   "cell_type": "markdown",
   "metadata": {},
   "source": [
    "This expermiment aim to recognize the role of the impurity used. The max_depth =3 and min_impurity_decrease=0.01 by changing from gini to entropy a vey small increase in accuracy can be observed. "
   ]
  },
  {
   "cell_type": "markdown",
   "metadata": {
    "id": "uWAN_wWXHMOQ"
   },
   "source": [
    "2. What is boosting, bagging and  stacking?\n",
    "Which class does random forests belong to and why?"
   ]
  },
  {
   "cell_type": "markdown",
   "metadata": {
    "id": "LnO5uqHlHMOR"
   },
   "source": [
    "Answer:\n",
    "\n",
    "#### Boosting\n",
    "\n",
    "1. Its an ensemble modelling approach that aims to build a strong classifier by using multiple weak classifiers. \n",
    "2. A first model is built using the trainning data and another is built that tends to compenstate for the errors in the first model. \n",
    "3. This procedure is continued unitl the maximum number of models are reached or until the complete trainning data is correctly predicted. \n",
    "\n",
    "#### Bagging\n",
    "1. Bagging is an ensemble approach. \n",
    "2. It fits multiple models on different subsets of trainning data and combines decisions form all models for predictions.\n",
    " \n",
    "\n",
    "#### Stacking\n",
    "\n",
    "1. In stacking we explore different models for the same data, each model is capable of learning some part of the problem but not the entire problem space. \n",
    "2. Multiple learned models are used to generate intermediate predicitons one form each model.\n",
    "3. Another learned model is addead that learns from intermediate predictions to target predictions"
   ]
  },
  {
   "cell_type": "markdown",
   "metadata": {
    "id": "pihvGbqLHMOS"
   },
   "source": [
    "3. Implement random forest algorithm using different decision trees . \n",
    "\n",
    "## Random forests using Decision Trees"
   ]
  },
  {
   "cell_type": "code",
   "execution_count": 30,
   "metadata": {
    "id": "dXdPP2aIHMOT"
   },
   "outputs": [],
   "source": [
    "from sklearn.ensemble import RandomForestClassifier\n",
    "import numpy as np\n",
    "\n",
    "numTrees = 80\n",
    "ratio = 2/3"
   ]
  },
  {
   "cell_type": "code",
   "execution_count": 31,
   "metadata": {},
   "outputs": [],
   "source": [
    "def GenerateData( X, Y , ratio ):\n",
    "    \n",
    "    sample_index  = np.random.randint( 0,X.shape[0],size=int(X.shape[0]*ratio))\n",
    "    X_Data, Y_Data = X[sample_index], Y[sample_index]\n",
    "    \n",
    "    return X_Data, Y_Data"
   ]
  },
  {
   "cell_type": "code",
   "execution_count": 32,
   "metadata": {},
   "outputs": [],
   "source": [
    "def CreateRandomForest(X, Y , success = False):\n",
    "    randomForests = []\n",
    "    for i in range(numTrees):\n",
    "        \n",
    "        X_Data, Y_Data = GenerateData( X, Y , ratio )\n",
    "        dt = tree.DecisionTreeClassifier( criterion = 'gini' )\n",
    "        randomForests.append( dt.fit( X_Data , Y_Data ) )\n",
    "    \n",
    "    if( len( randomForests) == numTrees ):\n",
    "        success = True \n",
    "    \n",
    "    return randomForests , success\n",
    "        "
   ]
  },
  {
   "cell_type": "code",
   "execution_count": 33,
   "metadata": {},
   "outputs": [],
   "source": [
    "def Predict( randomForests , X_test ):\n",
    "    \n",
    "    results = []\n",
    "    for dt in randomForests:\n",
    "        y_pred = dt.predict(X_test)\n",
    "        results.append(y_pred)\n",
    "    results = np.array(results)\n",
    "    y_pred_aggregate = AggregateResults(results.T)\n",
    "    \n",
    "    return y_pred_aggregate        "
   ]
  },
  {
   "cell_type": "code",
   "execution_count": 34,
   "metadata": {},
   "outputs": [],
   "source": [
    "def AggregateResults(test_result):\n",
    "    y_predict_aggregate = []\n",
    "    # Perform Aggregation like Voting\n",
    "    for test in test_result:\n",
    "        y_hat, counts = np.unique(test,return_counts=True)\n",
    "        y_predict_aggregate.append(y_hat[counts.argmax()])\n",
    "    \n",
    "    # Report Result\n",
    "    return y_predict_aggregate\n"
   ]
  },
  {
   "cell_type": "code",
   "execution_count": 35,
   "metadata": {},
   "outputs": [],
   "source": [
    "def TestRF(y_GT, y_predict):\n",
    "    accuracy = (y_GT == y_predict).sum()/len(y_test)\n",
    "    \n",
    "    return accuracy"
   ]
  },
  {
   "cell_type": "code",
   "execution_count": 36,
   "metadata": {},
   "outputs": [
    {
     "name": "stdout",
     "output_type": "stream",
     "text": [
      "0.9619047619047619\n"
     ]
    }
   ],
   "source": [
    "RF , _ =CreateRandomForest(X_train,y_train )\n",
    "Y_predict =  Predict(RF, X_test)\n",
    "Acc = TestRF(y_test,Y_predict)\n",
    "print(Acc)"
   ]
  },
  {
   "cell_type": "markdown",
   "metadata": {
    "id": "zJOn5nNZHMOU"
   },
   "source": [
    "4. Report the accuracies obtained after using the Random forest algorithm and compare it with the best accuracies obtained with the decision trees. "
   ]
  },
  {
   "cell_type": "markdown",
   "metadata": {
    "id": "Ce4KiiIGHMOV"
   },
   "source": [
    "| Method | Accuracy |\n",
    "| --- | --- |\n",
    "| Decision Tree | 94.28% |\n",
    "| Random Forests rate | 96.19% |\n"
   ]
  },
  {
   "cell_type": "markdown",
   "metadata": {
    "id": "yj-vNvsYHMOX"
   },
   "source": [
    "5. Submit your solution as a separate pdf in the final zip file of your submission\n",
    "\n",
    "\n",
    "Compute a decision tree with the goal to predict the food review based on its smell, taste and portion size.\n",
    "\n",
    "(a) Compute the entropy of each rule in the first stage.\n",
    "\n",
    "(b) Show the final decision tree. Clearly draw it.\n",
    "\n",
    "Submit a handwritten response. Clearly show all the steps.\n",
    "\n"
   ]
  },
  {
   "cell_type": "code",
   "execution_count": null,
   "metadata": {},
   "outputs": [],
   "source": []
  },
  {
   "cell_type": "code",
   "execution_count": null,
   "metadata": {},
   "outputs": [],
   "source": []
  }
 ],
 "metadata": {
  "colab": {
   "name": "Decision_trees.ipynb",
   "provenance": []
  },
  "interpreter": {
   "hash": "1f8d80d535cfd832283e4e3a1095d2ce45fe6627336684f2622a1965babb2f1c"
  },
  "kernelspec": {
   "display_name": "SMAI",
   "language": "python",
   "name": "smai"
  },
  "language_info": {
   "codemirror_mode": {
    "name": "ipython",
    "version": 3
   },
   "file_extension": ".py",
   "mimetype": "text/x-python",
   "name": "python",
   "nbconvert_exporter": "python",
   "pygments_lexer": "ipython3",
   "version": "3.8.10"
  }
 },
 "nbformat": 4,
 "nbformat_minor": 1
}
